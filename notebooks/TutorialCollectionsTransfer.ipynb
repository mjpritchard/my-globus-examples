{
 "cells": [
  {
   "cell_type": "markdown",
   "id": "343d3e28-685b-4947-9323-42a0c50b2194",
   "metadata": {},
   "source": [
    "# Tutorial Collections Transfer"
   ]
  },
  {
   "cell_type": "markdown",
   "id": "693e9cb0-939d-49e3-80a4-ef47d52a64c9",
   "metadata": {},
   "source": [
    "*Matt Pritchard, June 2024*\n",
    "\n",
    "Simple example of transfer between Globus tutorial collections.\n",
    "These are simpler than most because no collection authentication is required.\n",
    "\n",
    "Further examples here https://globus-sdk-python.readthedocs.io/en/stable/examples/index.html"
   ]
  },
  {
   "cell_type": "code",
   "execution_count": 1,
   "id": "2d98e468-cd9a-4569-995c-4e973ed9758b",
   "metadata": {},
   "outputs": [],
   "source": [
    "import os\n",
    "import datetime as dt\n",
    "import pytz\n",
    "import json # so we can pretty-print responses"
   ]
  },
  {
   "cell_type": "code",
   "execution_count": 2,
   "id": "f1da618f-fa4a-4f88-8747-3a24dd777eea",
   "metadata": {},
   "outputs": [],
   "source": [
    "# Globus SDK imports (requires venv with globus-sdk installed)\n",
    "from globus_sdk import (\n",
    "        TransferClient,\n",
    "        TransferData,\n",
    "        NativeAppAuthClient, \n",
    "        RefreshTokenAuthorizer,\n",
    "        TransferAPIError\n",
    ")\n",
    "from globus_sdk.scopes import TransferScopes\n",
    "from globus_sdk.tokenstorage import SimpleJSONFileAdapter"
   ]
  },
  {
   "cell_type": "code",
   "execution_count": 3,
   "id": "ccd6d070-0fc5-4485-84f2-35e5eff41e1b",
   "metadata": {},
   "outputs": [],
   "source": [
    "# Register your own app at developers.globus.org and use **YOUR OWN** CLIENT_ID here\n",
    "CLIENT_ID = \"3b1925c0-a87b-452b-a492-2c9921d3bd14\" # This is the Globus tutorial one: you should register & create your own."
   ]
  },
  {
   "cell_type": "code",
   "execution_count": 4,
   "id": "1793eabf-2925-4516-b541-2643b0fd4b9e",
   "metadata": {},
   "outputs": [],
   "source": [
    "SRC=\"6c54cade-bde5-45c1-bdea-f4bd71dba2cc\" # Globus tutorial collection 1\n",
    "DST=\"31ce9ba0-176d-45a5-add3-f37d233ba47d\" # Globus tutorial collection 2"
   ]
  },
  {
   "cell_type": "code",
   "execution_count": 5,
   "id": "cad672fc-6a82-449c-bb32-f8ff32737c06",
   "metadata": {},
   "outputs": [],
   "source": [
    "AUTH_CLIENT = NativeAppAuthClient(CLIENT_ID)"
   ]
  },
  {
   "cell_type": "code",
   "execution_count": 6,
   "id": "fb77f0f9-236b-45cf-bf21-18a6bbab367b",
   "metadata": {},
   "outputs": [],
   "source": [
    "MY_FILE_ADAPTER = SimpleJSONFileAdapter(\n",
    "    os.path.expanduser(\"~/.globus-transfer-tokens.json\")\n",
    ")"
   ]
  },
  {
   "cell_type": "code",
   "execution_count": 7,
   "id": "7cc56911-edfe-40ab-b8d0-ec85753ca50b",
   "metadata": {},
   "outputs": [],
   "source": [
    "def do_login_flow(scopes=TransferScopes.all):\n",
    "    \n",
    "    # Do login flow and return tokens\n",
    "    \n",
    "    AUTH_CLIENT.oauth2_start_flow(\n",
    "        requested_scopes=scopes,\n",
    "        refresh_tokens=True,\n",
    "    )\n",
    "    authorize_url = AUTH_CLIENT.oauth2_get_authorize_url()\n",
    "    print(f\"Please go to this URL and login:\\n\\n{authorize_url}\\n\")\n",
    "    auth_code = input(\"Please enter the code here: \").strip()\n",
    "    tokens = AUTH_CLIENT.oauth2_exchange_code_for_tokens(auth_code)\n",
    "    return tokens"
   ]
  },
  {
   "cell_type": "code",
   "execution_count": 8,
   "id": "11742f1e-2cf0-45c8-aa4a-ebaee3f8cc81",
   "metadata": {},
   "outputs": [
    {
     "name": "stdout",
     "output_type": "stream",
     "text": [
      "Read tokens from file\n",
      "{\n",
      "    \"scope\": \"urn:globus:auth:scope:transfer.api.globus.org:all\",\n",
      "    \"access_token\": \"AgllqmE5KJXxqjPmPq3gnz87OkNMExg7yqK6nPWWlWje9XDV7gh8C9GP2vDOXWbkpMm379llvbzEFYxnJDWUOEmd1\",\n",
      "    \"refresh_token\": \"Agy2Y4K9PDBoeDb5m5Yeo603GQylr5E46M8DzlrQ61Yl6OqlkoszUK8X2bYNjvx1xr2wG09wx0g2ljmykqmadD7ByKXWy\",\n",
      "    \"token_type\": \"Bearer\",\n",
      "    \"expires_at_seconds\": 1721842745,\n",
      "    \"resource_server\": \"transfer.api.globus.org\"\n",
      "}\n"
     ]
    }
   ],
   "source": [
    "# Check for existence of token store file, make it if needed\n",
    "\n",
    "# Only set to True to force re-login (useful if doesn't work on a subsequent run, but shouldn't be needed)\n",
    "forceRedoLogin = False\n",
    "\n",
    "if (not MY_FILE_ADAPTER.file_exists()) or forceRedoLogin:\n",
    "    # do a login flow, getting back initial tokens\n",
    "    response = do_login_flow()\n",
    "    # now store the tokens and pull out the relevant ones for the TransferClient\n",
    "    MY_FILE_ADAPTER.store(response)\n",
    "    by_rs = response.by_resource_server\n",
    "    tokens = by_rs[TransferClient.resource_server]\n",
    "    print(\"Generated tokens from login\")\n",
    "else:\n",
    "    # otherwise, we already did login; load the tokens from that file\n",
    "    tokens = MY_FILE_ADAPTER.get_token_data(TransferClient.resource_server)\n",
    "    print(\"Read tokens from file\")\n",
    "    \n",
    "print(json.dumps(tokens, indent=4))"
   ]
  },
  {
   "cell_type": "code",
   "execution_count": 10,
   "id": "241b259f-9f2f-4291-b489-eb7a381dd024",
   "metadata": {},
   "outputs": [
    {
     "name": "stdout",
     "output_type": "stream",
     "text": [
      "Expiry:\t 2024-07-24 17:39:05\n",
      "Now:\t 2024-07-23 14:25:37.294962\n"
     ]
    }
   ],
   "source": [
    "# Check the expiry of the token\n",
    "expiry = dt.datetime.fromtimestamp(tokens[\"expires_at_seconds\"], tz=None)\n",
    "now = dt.datetime.utcnow()\n",
    "\n",
    "print(\"Expiry:\\t\", expiry)\n",
    "print(\"Now:\\t\", now)"
   ]
  },
  {
   "cell_type": "code",
   "execution_count": 11,
   "id": "e4284fd9-68ad-443f-88eb-6be5c57b0465",
   "metadata": {},
   "outputs": [],
   "source": [
    "# construct the RefreshTokenAuthorizer which writes back to storage on refresh\n",
    "authorizer = RefreshTokenAuthorizer(\n",
    "    tokens[\"refresh_token\"],\n",
    "    AUTH_CLIENT,\n",
    "    access_token=tokens[\"access_token\"],\n",
    "    expires_at=tokens[\"expires_at_seconds\"],\n",
    "    on_refresh=MY_FILE_ADAPTER.on_refresh,\n",
    ")\n",
    "# use that authorizer to authorize the activity of the transfer client\n",
    "transfer_client = TransferClient(authorizer=authorizer)\n",
    "\n",
    "# initialise a list of required scopes, to check\n",
    "consent_required_scopes = []"
   ]
  },
  {
   "cell_type": "code",
   "execution_count": 12,
   "id": "6ece4483-f1a9-493b-bf6d-1ef4efe444b6",
   "metadata": {},
   "outputs": [],
   "source": [
    "# Now we have a client, we could interact with any collection that \n",
    "# doesn't require specific consent. However most do.\n",
    "\n",
    "# So, try an ls on the source and destination to see if ConsentRequired\n",
    "# errors are raised\n",
    "\n",
    "def check_for_consent_required(tc, target):\n",
    "    try:\n",
    "        tc.operation_ls(target, path=\"/\")\n",
    "        print(\"Consent OK for \",target)\n",
    "    # catch all errors and discard those other than ConsentRequired\n",
    "    # e.g. ignore PermissionDenied errors as not relevant\n",
    "    except TransferAPIError as err:\n",
    "        if err.info.consent_required:\n",
    "            consent_required_scopes.extend(err.info.consent_required.required_scopes)"
   ]
  },
  {
   "cell_type": "code",
   "execution_count": 13,
   "id": "d277e20a-a3c7-4130-8e54-1f8c39c0ea15",
   "metadata": {},
   "outputs": [
    {
     "name": "stdout",
     "output_type": "stream",
     "text": [
      "Consent OK for  6c54cade-bde5-45c1-bdea-f4bd71dba2cc\n",
      "Consent OK for  31ce9ba0-176d-45a5-add3-f37d233ba47d\n"
     ]
    }
   ],
   "source": [
    "check_for_consent_required(transfer_client, SRC)\n",
    "check_for_consent_required(transfer_client, DST)"
   ]
  },
  {
   "cell_type": "code",
   "execution_count": 14,
   "id": "e5368d3a-b25b-45dd-b44f-c158a55bf6b4",
   "metadata": {},
   "outputs": [],
   "source": [
    "# the block above may or may not populate the list consent_required_scopes[]\n",
    "# but if it does, handle ConsentRequired with a new login\n",
    "\n",
    "if consent_required_scopes:\n",
    "    print(\n",
    "        \"One of your endpoints requires consent in order to be used.\\n\"\n",
    "        \"Trying second login to grant consents.\\n\\n\"\n",
    "    )\n",
    "    scopes_list = [TransferScopes.all] + consent_required_scopes\n",
    "    response = do_login_flow(scopes_list)\n",
    "    MY_FILE_ADAPTER.store(response)\n",
    "    transfer_client = TransferClient(authorizer=authorizer)"
   ]
  },
  {
   "cell_type": "code",
   "execution_count": 15,
   "id": "3540851f-4306-44d6-a5a9-6052773f49f9",
   "metadata": {},
   "outputs": [],
   "source": [
    "# Create and submit the transfer task.\n",
    "\n",
    "task_data = TransferData(\n",
    "    source_endpoint=SRC, destination_endpoint=DST,\n",
    "    label = \"test transfer between tutorial collections\"\n",
    ")\n",
    "task_data.add_item(\n",
    "    \"/home/share/godata/file2.txt\",  # source\n",
    "    \"/~/file2.txt\",  # dest\n",
    ")\n",
    "\n",
    "\n",
    "def do_submit(client):\n",
    "    task_doc = client.submit_transfer(task_data)\n",
    "    task_id = task_doc[\"task_id\"]\n",
    "    print(f\"submitted transfer, task_id={task_id}\")"
   ]
  },
  {
   "cell_type": "code",
   "execution_count": 16,
   "id": "25afdcea-a22f-4cf6-8101-5594a9b76261",
   "metadata": {},
   "outputs": [
    {
     "name": "stdout",
     "output_type": "stream",
     "text": [
      "submitted transfer, task_id=96659e72-48ff-11ef-8dfd-19f3c8361d4f\n"
     ]
    }
   ],
   "source": [
    "try:\n",
    "    do_submit(transfer_client)\n",
    "except TransferAPIError as err:\n",
    "    if err.info.consent_required:\n",
    "        print(\n",
    "            \"Consent error: one or more collection requires consent, please login again.\"\n",
    "        )\n",
    "    elif (err.info.authorization_parameters and err.info.authorization_parameters.session_required_single_domain):\n",
    "        print(err.info.authorization_parameters.session_message,\" : \",err.info.authorization_parameters.session_required_single_domain)\n",
    "        print(\n",
    "            f\"Your authentication with domain {err.info.authorization_parameters.session_required_single_domain} needs to be refreshed. Please go to https://app.globus.org and navigate to the collection manually to re-authenticate, then retry here.\"\n",
    "        )\n",
    "    else:\n",
    "        print(\n",
    "            \"A transfer API error occurred\\n\",\n",
    "            err\n",
    "        )\n"
   ]
  },
  {
   "cell_type": "code",
   "execution_count": null,
   "id": "38a3a09e-1d91-4e8e-839a-b58593bc584e",
   "metadata": {},
   "outputs": [],
   "source": []
  }
 ],
 "metadata": {
  "kernelspec": {
   "display_name": "globus-env",
   "language": "python",
   "name": "globus-env"
  },
  "language_info": {
   "codemirror_mode": {
    "name": "ipython",
    "version": 3
   },
   "file_extension": ".py",
   "mimetype": "text/x-python",
   "name": "python",
   "nbconvert_exporter": "python",
   "pygments_lexer": "ipython3",
   "version": "3.11.9"
  }
 },
 "nbformat": 4,
 "nbformat_minor": 5
}
